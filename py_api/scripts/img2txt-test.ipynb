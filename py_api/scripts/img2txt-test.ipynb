{
 "cells": [
  {
   "cell_type": "code",
   "execution_count": null,
   "metadata": {},
   "outputs": [],
   "source": [
    "from PIL import Image\n",
    "import requests\n",
    "from transformers import AutoProcessor, LlavaForConditionalGeneration, LlavaProcessor, AutoModelForPreTraining, AutoModelForCausalLM, pipeline\n",
    "\n",
    "model = 'llava-hf/bakLlava-v1-hf'\n",
    "\n",
    "pipe = pipeline('image-to-text', model, device='cuda')\n",
    "# model.to(\"cuda:0\") # type: ignore\n",
    "# processor = AutoProcessor.from_pretrained(model)\n",
    "\n",
    "# mm_pipeline = pipeline(\"image-to-text\", model=\"llava-hf/llava-1.5-7b-hf\")\n",
    "image = Image.open(\"/home/user/Downloads/2015-12-21_upscayl_2x_RealESRGAN_General_x4_v3.png\")\n",
    "prompt = \"What's in this picture?\"\n",
    "print(image)\n"
   ]
  },
  {
   "cell_type": "code",
   "execution_count": null,
   "metadata": {},
   "outputs": [],
   "source": [
    "from PIL import Image\n",
    "import requests\n",
    "\n",
    "from transformers import CLIPProcessor, CLIPModel\n",
    "\n",
    "m = 'openai/clip-vit-large-patch14'\n",
    "\n",
    "model = CLIPModel.from_pretrained(m)\n",
    "processor = CLIPProcessor.from_pretrained(m)\n",
    "\n",
    "url = \"/home/user/Downloads/12.jpeg\"\n",
    "image = Image.open(url)\n",
    "\n",
    "inputs = processor(text=[\"a photo of a cat\", \"a photo of a dog\"], images=image, return_tensors=\"pt\", padding=True)\n",
    "\n",
    "outputs = model(**inputs) # type: ignore\n",
    "logits_per_image = outputs.logits_per_image # this is the image-text similarity score\n",
    "probs = logits_per_image.softmax(dim=1) # we can take the softmax to get the label probabilities\n",
    "\n",
    "print(\"Label probs:\", probs)\n"
   ]
  },
  {
   "cell_type": "code",
   "execution_count": null,
   "metadata": {},
   "outputs": [],
   "source": [
    "from transformers import pipeline\n",
    "\n",
    "# model = \"openai/clip-vit-large-patch14\"\n",
    "model = \"nlpconnect/vit-gpt2-image-captioning\"\n",
    "\n",
    "task = \"zero-shot-image-classification\"\n",
    "# task = \"image-to-text\"\n",
    "\n",
    "pipe = pipeline(task, model=model, device='cuda')"
   ]
  },
  {
   "cell_type": "code",
   "execution_count": null,
   "metadata": {},
   "outputs": [],
   "source": [
    "# generate\n",
    "img = \"/home/user/Downloads/12.jpeg\"\n",
    "result = pipe(img)\n",
    "print(result)"
   ]
  }
 ],
 "metadata": {
  "kernelspec": {
   "display_name": "venv",
   "language": "python",
   "name": "python3"
  },
  "language_info": {
   "codemirror_mode": {
    "name": "ipython",
    "version": 3
   },
   "file_extension": ".py",
   "mimetype": "text/x-python",
   "name": "python",
   "nbconvert_exporter": "python",
   "pygments_lexer": "ipython3",
   "version": "3.11.5"
  }
 },
 "nbformat": 4,
 "nbformat_minor": 2
}
