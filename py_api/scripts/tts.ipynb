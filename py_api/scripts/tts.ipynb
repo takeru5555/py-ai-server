{
 "cells": [
  {
   "cell_type": "markdown",
   "metadata": {},
   "source": [
    "See https://docs.coqui.ai/en/dev/inference.html#python-tts-api for examples.\n",
    "\n",
    "It looks to me like the multilingual/multi-dataset models support voice cloning (and thus need `speaker_wav` passed to `tts.tts_to_file()`). This would be at least `xtts`, `bark`, and `yourtts`.\n",
    "\n",
    "(Can voice clone with [any model?](https://docs.coqui.ai/en/dev/inference.html#example-voice-cloning-by-a-single-speaker-tts-model-combining-with-the-voice-conversion-model))\n",
    "\n",
    "NOTE:\n",
    "If text is too long, it will be split into sentences by default. This can be disabled by setting `split_by_sentences=False` in `tts.tts_to_file()` or `tts.tts()`.\n",
    "\n",
    "TODO: Experiment with different methods for generting long text (esp. long sentences). \n",
    "\n",
    "TODO: Learn + Test vocoder models\n",
    "\n",
    "PIPE DREAM:\n",
    "- Automatically process speaker samples\n",
    "\t- Doesn't Whisper return timestamps? And maybe do some diaraization if it's a multi-speaker sample?\n",
    "\t- Can use Facebook's denoiser\n",
    "\t- Trimming silence should be easy"
   ]
  },
  {
   "cell_type": "code",
   "execution_count": 9,
   "metadata": {},
   "outputs": [],
   "source": [
    "from TTS.api import TTS\n",
    "import torch\n",
    "import json\n",
    "\n",
    "device = 'cuda' if torch.cuda.is_available() else 'cpu'\n",
    "models = TTS().list_models()\n",
    "\n",
    "with open('tts-models.json', 'w') as f:\n",
    "\tjson.dump(models.models_dict, f, indent=2)"
   ]
  },
  {
   "cell_type": "code",
   "execution_count": null,
   "metadata": {},
   "outputs": [],
   "source": [
    "# load model\n",
    "# --model_name \"<type>/<language>/<dataset>/<model_name>\"\n",
    "tts = TTS(\"tts_models/multilingual/multi-dataset/xtts_v2\").to(device)\n",
    "# tts = TTS(\"tts_models/multilingual/multi-dataset/xtts_v2\").to(device)"
   ]
  },
  {
   "cell_type": "code",
   "execution_count": null,
   "metadata": {},
   "outputs": [],
   "source": [
    "# generate tts (2 methods -- both can take speaker_wav)\n",
    "# 1:\n",
    "wav = tts.tts(\"Hello world!\", language='en')\n",
    "# 2:\n",
    "tts.tts_to_file(\"Hello world!\", file_path=\"out.wav\", language='en')"
   ]
  }
 ],
 "metadata": {
  "kernelspec": {
   "display_name": "venv",
   "language": "python",
   "name": "python3"
  },
  "language_info": {
   "codemirror_mode": {
    "name": "ipython",
    "version": 3
   },
   "file_extension": ".py",
   "mimetype": "text/x-python",
   "name": "python",
   "nbconvert_exporter": "python",
   "pygments_lexer": "ipython3",
   "version": "3.11.5"
  }
 },
 "nbformat": 4,
 "nbformat_minor": 2
}
