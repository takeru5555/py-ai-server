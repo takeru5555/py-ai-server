{
 "cells": [
  {
   "cell_type": "code",
   "execution_count": null,
   "metadata": {},
   "outputs": [],
   "source": [
    "from TTS.api import TTS\n",
    "import time\n",
    "\n",
    "model_path = \"/media/user/AI Models/TTS/\"\n",
    "tts = TTS(\"tts_models/multilingual/multi-dataset/bark\")\n",
    "tts.to(\"cuda\")\n"
   ]
  },
  {
   "cell_type": "code",
   "execution_count": null,
   "metadata": {},
   "outputs": [],
   "source": [
    "prompt = '''\n",
    "[clears throat] Hey, my dog is better than your dog!\n",
    "'''\n",
    "tts.tts_to_file(text=prompt,\n",
    "                file_path=f\"coqui-bark-{time.time()}.wav\",\n",
    "                voice_dir=\"/media/user/AI Models/TTS/voices\",\n",
    "                speaker=\"female1\")\n"
   ]
  },
  {
   "cell_type": "code",
   "execution_count": null,
   "metadata": {},
   "outputs": [],
   "source": [
    "import json\n",
    "with open('tts-models.json', 'w') as f:\n",
    "\tjson.dump(TTS().list_models().models_dict, f, indent=2)"
   ]
  }
 ],
 "metadata": {
  "kernelspec": {
   "display_name": "venv",
   "language": "python",
   "name": "python3"
  },
  "language_info": {
   "codemirror_mode": {
    "name": "ipython",
    "version": 3
   },
   "file_extension": ".py",
   "mimetype": "text/x-python",
   "name": "python",
   "nbconvert_exporter": "python",
   "pygments_lexer": "ipython3",
   "version": "3.11.5"
  }
 },
 "nbformat": 4,
 "nbformat_minor": 2
}
