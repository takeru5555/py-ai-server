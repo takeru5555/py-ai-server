{
 "cells": [
  {
   "cell_type": "code",
   "execution_count": null,
   "metadata": {},
   "outputs": [],
   "source": [
    "from TTS.api import TTS\n",
    "import time\n",
    "\n",
    "tts = TTS(model_name=\"tts_models/en/multi-dataset/tortoise-v2\").to(\"cuda\")"
   ]
  },
  {
   "cell_type": "code",
   "execution_count": null,
   "metadata": {},
   "outputs": [],
   "source": [
    "prompt = '''\n",
    "Hey, my dog is better than your dog!\n",
    "'''\n",
    "from IPython.display import Audio\n",
    "\n",
    "wav = tts.tts(prompt, speaker=\"lj\")\n",
    "# tts.tts_to_file(prompt, speaker_wav=\"/media/user/AI Models/TTS/voices/female1.wav\", language=\"en\", file_path=f'out/yourtts-{time.time()}.wav')\n",
    "\n",
    "Audio(wav, rate=15000)"
   ]
  }
 ],
 "metadata": {
  "kernelspec": {
   "display_name": "venv",
   "language": "python",
   "name": "python3"
  },
  "language_info": {
   "codemirror_mode": {
    "name": "ipython",
    "version": 3
   },
   "file_extension": ".py",
   "mimetype": "text/x-python",
   "name": "python",
   "nbconvert_exporter": "python",
   "pygments_lexer": "ipython3",
   "version": "3.11.5"
  }
 },
 "nbformat": 4,
 "nbformat_minor": 2
}
