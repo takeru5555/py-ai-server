{
 "cells": [
  {
   "cell_type": "code",
   "execution_count": 7,
   "metadata": {},
   "outputs": [
    {
     "name": "stdout",
     "output_type": "stream",
     "text": [
      "Total memory: 11.75 GB\n",
      "Used memory: 0.00 GB\n",
      "Free memory: 11.75 GB\n"
     ]
    }
   ],
   "source": [
    "import torch\n",
    "\n",
    "totalmem = torch.cuda.get_device_properties(0).total_memory\n",
    "totalmem /= 1024**3\n",
    "usedmem = torch.cuda.memory_allocated(0)\n",
    "usedmem /= 1024**3\n",
    "freemem = totalmem - usedmem\n",
    "\n",
    "print(f\"Total memory: {totalmem:.2f} GB\")\n",
    "print(f\"Used memory: {usedmem:.2f} GB\")\n",
    "print(f\"Free memory: {freemem:.2f} GB\")"
   ]
  },
  {
   "cell_type": "code",
   "execution_count": 6,
   "metadata": {},
   "outputs": [
    {
     "name": "stdout",
     "output_type": "stream",
     "text": [
      "Free memory: 7.94 GB\n"
     ]
    }
   ],
   "source": [
    "# https://stackoverflow.com/a/59571639\n",
    "import subprocess as sp\n",
    "import os\n",
    "\n",
    "# https://nvidia.custhelp.com/app/answers/detail/a_id/3751/~/useful-nvidia-smi-queries\n",
    "def get_gpu_memory():\n",
    "    command = \"nvidia-smi --query-gpu=gpu_name,memory.free --format=csv\"\n",
    "    memory_free_info = sp.check_output(command.split()).decode('ascii').split('\\n')[:-1][1:]\n",
    "    memory_free_values = [int(x.split()[0]) for i, x in enumerate(memory_free_info)]\n",
    "    return memory_free_values\n",
    "\n",
    "mem_free = get_gpu_memory()\n",
    "print(f\"Free memory: {mem_free[0]/1024:.2f} GB\")\n",
    "\n",
    "# nvidia-smi --query-gpu=gpu_name --format=csv"
   ]
  },
  {
   "cell_type": "code",
   "execution_count": 20,
   "metadata": {},
   "outputs": [
    {
     "data": {
      "text/plain": [
       "('NVIDIA GeForce RTX 3060', '7.94 GB', '12.00 GB')"
      ]
     },
     "execution_count": 20,
     "metadata": {},
     "output_type": "execute_result"
    }
   ],
   "source": [
    "command = \"nvidia-smi --query-gpu=gpu_name,memory.free,memory.total --format=csv\"\n",
    "memory_free_info = sp.check_output(command.split()).decode('ascii').split('\\n')[:-1][1:]\n",
    "# e.g. memory_free_info = ['NVIDIA GeForce RTX 3060, 8126 MiB']\n",
    "memory_values = memory_free_info[0].split(', ')\n",
    "gpu_name = memory_values[0]\n",
    "mem_free = int(memory_values[1].split()[0])\n",
    "mem_free = f\"{mem_free/1024:.2f} GB\"\n",
    "mem_total = int(memory_values[2].split()[0])\n",
    "mem_total = f\"{mem_total/1024:.2f} GB\"\n",
    "gpu_name, mem_free, mem_total\n",
    "# e.g. ('NVIDIA GeForce RTX 3060', '7.94 GB', '12.00 GB')"
   ]
  }
 ],
 "metadata": {
  "kernelspec": {
   "display_name": "venv",
   "language": "python",
   "name": "python3"
  },
  "language_info": {
   "codemirror_mode": {
    "name": "ipython",
    "version": 3
   },
   "file_extension": ".py",
   "mimetype": "text/x-python",
   "name": "python",
   "nbconvert_exporter": "python",
   "pygments_lexer": "ipython3",
   "version": "3.11.7"
  }
 },
 "nbformat": 4,
 "nbformat_minor": 2
}
