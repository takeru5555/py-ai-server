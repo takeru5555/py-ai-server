{
 "cells": [
  {
   "cell_type": "code",
   "execution_count": null,
   "metadata": {},
   "outputs": [],
   "source": [
    "from transformers import pipeline\n",
    "from IPython.display import Audio\n",
    "\n",
    "synthesiser = pipeline(\"text-to-speech\", \"suno/bark\", device=\"cuda\")"
   ]
  },
  {
   "cell_type": "code",
   "execution_count": null,
   "metadata": {},
   "outputs": [],
   "source": [
    "speech = synthesiser(\"(clears throat) Hey, my dog is better than your dog!\", forward_params={\"do_sample\": True})\n",
    "\n",
    "Audio(speech[\"audio\"], rate=speech[\"sampling_rate\"])"
   ]
  },
  {
   "cell_type": "code",
   "execution_count": null,
   "metadata": {},
   "outputs": [],
   "source": [
    "# alternate way\n",
    "from transformers import AutoProcessor, BarkModel\n",
    "import torch\n",
    "\n",
    "# Set device (CUDA or CPU)\n",
    "device = torch.device(\"cuda\" if torch.cuda.is_available() else \"cpu\")\n",
    "print(f\"Using device: {device}\")  # Should print 'cuda'\n",
    "\n",
    "# Define precision (use default single-precision floating-point FP32)\n",
    "torch_dtype = torch.float32\n",
    "\n",
    "# Set Bark pre-trained model\n",
    "model_type = \"suno/bark\"  # Default\n",
    "\n",
    "# Use AutoProcessor to instantiate appropriate multi-modal processor for Bark\n",
    "processor = AutoProcessor.from_pretrained(model_type, torch_dtype=torch_dtype)\n",
    "\n",
    "# Instantiate Bark model\n",
    "model = BarkModel.from_pretrained(model_type, torch_dtype=torch_dtype)\n",
    "\n",
    "# Move Bark model to CUDA device\n",
    "model = model.to(device)"
   ]
  },
  {
   "cell_type": "code",
   "execution_count": null,
   "metadata": {},
   "outputs": [],
   "source": [
    "voice_preset = \"v2/en_speaker_9\"\n",
    "text_prompt = '''\n",
    "[clears throat] Hey bitch, my dog could kick your dog's ass no problem!\n",
    "'''\n",
    "\n",
    "# Pass voice preset and text prompt into processor\n",
    "inputs = processor(text=text_prompt, voice_preset=voice_preset)\n",
    "\n",
    "# Generate output audio arrays from input tensors\n",
    "audio_arrays = model.generate(**inputs.to(device))\n",
    "\n",
    "# Convert into NumPy array in CPU device (with removal of axes of size one from the shape of an array)\n",
    "audio_arrays = audio_arrays.cpu().numpy().squeeze()\n",
    "\n",
    "from IPython.display import Audio\n",
    "import scipy, time\n",
    "\n",
    "# Set sampling rate\n",
    "sample_rate = model.generation_config.sample_rate  # Default 24000 Hz\n",
    "\n",
    "# Download audio output as wav file\n",
    "scipy.io.wavfile.write(f'out/{time.time}.wav',\n",
    "                       rate=sample_rate,\n",
    "                       data=audio_arrays)\n",
    "\n",
    "# Convert audio array into audio sample played in widget\n",
    "Audio(audio_arrays, rate=sample_rate)"
   ]
  }
 ],
 "metadata": {
  "kernelspec": {
   "display_name": "venv",
   "language": "python",
   "name": "python3"
  },
  "language_info": {
   "codemirror_mode": {
    "name": "ipython",
    "version": 3
   },
   "file_extension": ".py",
   "mimetype": "text/x-python",
   "name": "python",
   "nbconvert_exporter": "python",
   "pygments_lexer": "ipython3",
   "version": "3.11.5"
  }
 },
 "nbformat": 4,
 "nbformat_minor": 2
}
